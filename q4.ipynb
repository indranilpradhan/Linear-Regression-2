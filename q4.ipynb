{
 "cells": [
  {
   "cell_type": "markdown",
   "metadata": {},
   "source": [
    "# Given a dataset containing historical weather information of certain area, implement a linear regression model from scratch using gradient descent to predict the apparent temperature."
   ]
  },
  {
   "cell_type": "code",
   "execution_count": 45,
   "metadata": {},
   "outputs": [],
   "source": [
    "import numpy as np\n",
    "import pandas as pd\n",
    "from numpy.random import RandomState\n",
    "from collections import Counter\n",
    "import matplotlib.pyplot as plt\n",
    "from sklearn.preprocessing import LabelEncoder\n",
    "import datetime as dt"
   ]
  },
  {
   "cell_type": "markdown",
   "metadata": {},
   "source": [
    "# Data pre-processing"
   ]
  },
  {
   "cell_type": "markdown",
   "metadata": {},
   "source": [
    "Data has been pre processed before traning. Categorical datas are label encoded using sklearn label encoder. Continuous data has been normalized. Formatted date is been transformed to ordinal number. "
   ]
  },
  {
   "cell_type": "code",
   "execution_count": 76,
   "metadata": {},
   "outputs": [],
   "source": [
    "df = pd.read_csv('/media/indranil/New Volume1/second sem/SMAI/Assignment 2/q4/data/weather.csv')\n",
    "enc = LabelEncoder()\n",
    "df['Precip Type'] = enc.fit_transform(df['Precip Type'].astype('str'))\n",
    "df['Summary'] = enc.fit_transform(df['Summary'].astype('str'))\n",
    "df['Daily Summary'] = enc.fit_transform(df['Daily Summary'].astype('str'))\n",
    "df['Formatted Date'] = pd.to_datetime(df['Formatted Date'])\n",
    "df['Formatted Date'] = df['Formatted Date'].map(dt.datetime.toordinal)\n",
    "df['Formatted Date']=(df['Formatted Date']-df['Formatted Date'].min())/(df['Formatted Date'].max()-df['Formatted Date'].min())\n",
    "df['Summary']=(df['Summary']-df['Summary'].min())/(df['Summary'].max()-df['Summary'].min())\n",
    "df['Temperature (C)']=(df['Temperature (C)']-df['Temperature (C)'].min())/(df['Temperature (C)'].max()-df['Temperature (C)'].min())\n",
    "df['Wind Speed (km/h)']=(df['Wind Speed (km/h)']-df['Wind Speed (km/h)'].min())/(df['Wind Speed (km/h)'].max()-df['Wind Speed (km/h)'].min())\n",
    "df['Wind Bearing (degrees)']=(df['Wind Bearing (degrees)']-df['Wind Bearing (degrees)'].min())/(df['Wind Bearing (degrees)'].max()-df['Wind Bearing (degrees)'].min())\n",
    "df['Visibility (km)']=(df['Visibility (km)']-df['Visibility (km)'].min())/(df['Visibility (km)'].max()-df['Visibility (km)'].min())\n",
    "df['Pressure (millibars)']=(df['Pressure (millibars)']-df['Pressure (millibars)'].min())/(df['Pressure (millibars)'].max()-df['Pressure (millibars)'].min())\n",
    "df['Daily Summary']=(df['Daily Summary']-df['Daily Summary'].min())/(df['Daily Summary'].max()-df['Daily Summary'].min())"
   ]
  },
  {
   "cell_type": "markdown",
   "metadata": {},
   "source": [
    "# Data is sliced in Traning and validation data"
   ]
  },
  {
   "cell_type": "code",
   "execution_count": 78,
   "metadata": {},
   "outputs": [],
   "source": [
    "rng = RandomState()\n",
    "train = df.sample(frac=0.8,random_state = rng)\n",
    "validation = df.loc[~df.index.isin(train.index)]\n",
    "Y_train_temp = train['Apparent Temperature (C)'].copy()\n",
    "X_train = train.drop('Apparent Temperature (C)', 1)\n",
    "Y_validation_temp = validation['Apparent Temperature (C)'].copy()\n",
    "X_validation = validation.drop('Apparent Temperature (C)', 1)\n",
    "Y_train = []\n",
    "Y_validation = []\n",
    "X_train = np.array(X_train).astype('float')\n",
    "Y_train = np.array(Y_train_temp)\n",
    "X_validation = np.array(X_validation).astype('float')\n",
    "Y_validation = np.array(Y_validation_temp)"
   ]
  },
  {
   "cell_type": "markdown",
   "metadata": {},
   "source": [
    "# Predict the result value"
   ]
  },
  {
   "cell_type": "code",
   "execution_count": 80,
   "metadata": {},
   "outputs": [],
   "source": [
    "def prediction(X_validation, newcoeff):\n",
    "    return X_validation.dot(newcoeff)"
   ]
  },
  {
   "cell_type": "markdown",
   "metadata": {},
   "source": [
    "# Cost calculation"
   ]
  },
  {
   "cell_type": "code",
   "execution_count": 81,
   "metadata": {},
   "outputs": [],
   "source": [
    "def cost_calculation(X_train, Y_train, Coefficient):\n",
    "    leng = len(Y_train)\n",
    "    sumcost = np.sum((X_train.dot(Coefficient) - Y_train) ** 2)\n",
    "    cost = sumcost/(2 * leng)\n",
    "    return cost"
   ]
  },
  {
   "cell_type": "markdown",
   "metadata": {},
   "source": [
    "# Gradient calculation"
   ]
  },
  {
   "cell_type": "code",
   "execution_count": 82,
   "metadata": {},
   "outputs": [],
   "source": [
    "def calculate_gradient(weights,X_train, Y_train):\n",
    "    leng = len(Y_train)\n",
    "    return X_train.T.dot(weights-Y_train) / leng"
   ]
  },
  {
   "cell_type": "markdown",
   "metadata": {},
   "source": [
    "# Calculation of coefficients"
   ]
  },
  {
   "cell_type": "code",
   "execution_count": 83,
   "metadata": {},
   "outputs": [],
   "source": [
    "def calculate_coefficients(coefficients, learning_rate, gradient):\n",
    "    cal_grad = learning_rate * gradient\n",
    "    penalty = coefficients - cal_grad\n",
    "    return penalty"
   ]
  },
  {
   "cell_type": "markdown",
   "metadata": {},
   "source": [
    "# Gradient descent to minimize loss function"
   ]
  },
  {
   "cell_type": "code",
   "execution_count": 84,
   "metadata": {},
   "outputs": [],
   "source": [
    "def gradient_descent(X_train, Y_train, coefficients, learning_rate, epochs):\n",
    "    costs = []\n",
    "    for i in range(epochs):\n",
    "        weights = X_train.dot(coefficients)\n",
    "        gradient = calculate_gradient(weights, X_train, Y_train)\n",
    "        coefficients = calculate_coefficients(coefficients, learning_rate, gradient)\n",
    "        cost = cost_calculation(X_train, Y_train, coefficients)\n",
    "        costs.append(cost)\n",
    "    return coefficients, costs"
   ]
  },
  {
   "cell_type": "markdown",
   "metadata": {},
   "source": [
    "# Mean Sqaured Error"
   ]
  },
  {
   "cell_type": "code",
   "execution_count": 85,
   "metadata": {},
   "outputs": [],
   "source": [
    "def mean_square_error(y_real,y_prediction):\n",
    "    summation = 0\n",
    "    n = len(y_real)\n",
    "    for i in range (0,n):\n",
    "        difference = y_real[i] - y_prediction[i]\n",
    "        squared_difference = difference**2\n",
    "        summation = summation + squared_difference\n",
    "    MSE = summation/n\n",
    "    return MSE"
   ]
  },
  {
   "cell_type": "markdown",
   "metadata": {},
   "source": [
    "# Mean Absolute Error"
   ]
  },
  {
   "cell_type": "code",
   "execution_count": 86,
   "metadata": {},
   "outputs": [],
   "source": [
    "def mean_absolute_error(y_real,y_prediction):\n",
    "    summation = 0\n",
    "    n = len(y_real)\n",
    "    for i in range (0,n):\n",
    "        difference = np.abs(y_real[i] - y_prediction[i])\n",
    "        summation = summation + difference\n",
    "    MAE = summation/n\n",
    "    return MAE"
   ]
  },
  {
   "cell_type": "markdown",
   "metadata": {},
   "source": [
    "# Mean Percentage Error"
   ]
  },
  {
   "cell_type": "code",
   "execution_count": 95,
   "metadata": {},
   "outputs": [],
   "source": [
    "def mean_percentage_error(y_real,y_prediction):\n",
    "    summation = 0\n",
    "    n = len(y_real)\n",
    "    for i in range (0,n):\n",
    "        if(y_real[i] != 0):\n",
    "            difference = (y_real[i] - y_prediction[i])\n",
    "            fraction = np.abs(difference/y_real[i])\n",
    "            summation = summation + fraction\n",
    "    MPE = summation*100/n\n",
    "    return MPE"
   ]
  },
  {
   "cell_type": "markdown",
   "metadata": {},
   "source": [
    "# Taking coefficients all zero i.e.- [0,0,0,0,0,0] and calculation of Mean Squared Erroe, Mean Absolute Error and Mean Percentage Error"
   ]
  },
  {
   "cell_type": "code",
   "execution_count": 99,
   "metadata": {},
   "outputs": [
    {
     "name": "stdout",
     "output_type": "stream",
     "text": [
      "Mean Squared Error  6.3351055234402\n",
      "Mean Absolute Error  2.0217169618277313\n",
      "Mean Percentage Error  118.69409037561758\n"
     ]
    }
   ],
   "source": [
    "coefficients = np.zeros(X_train.shape[1])\n",
    "learning_rate = 0.001\n",
    "epochs = 100000\n",
    "newcoeff, cost = gradient_descent(X_train, Y_train, coefficients, learning_rate, epochs)\n",
    "Y_predict = prediction(X_validation, newcoeff)\n",
    "print('Mean Squared Error ', mean_square_error(Y_validation, Y_predict))\n",
    "print('Mean Absolute Error ', mean_absolute_error(Y_validation, Y_predict))\n",
    "print('Mean Percentage Error ', mean_percentage_error(Y_validation, Y_predict))"
   ]
  },
  {
   "cell_type": "markdown",
   "metadata": {},
   "source": [
    "# Plotting of cost(Y-axis) with with number of iterations(X-axis)"
   ]
  },
  {
   "cell_type": "code",
   "execution_count": 100,
   "metadata": {},
   "outputs": [
    {
     "data": {
      "text/plain": [
       "Text(0, 0.5, 'cst')"
      ]
     },
     "execution_count": 100,
     "metadata": {},
     "output_type": "execute_result"
    },
    {
     "data": {
      "image/png": "[encoded data removed]",
      "text/plain": [
       "<Figure size 432x288 with 1 Axes>"
      ]
     },
     "metadata": {
      "needs_background": "light"
     },
     "output_type": "display_data"
    }
   ],
   "source": [
    "n_iter = [x for x in range(1,100001)]\n",
    "plt.plot(n_iter,cost)\n",
    "plt.xlabel('niter')\n",
    "plt.ylabel('cst')"
   ]
  },
  {
   "cell_type": "markdown",
   "metadata": {},
   "source": [
    "# The best line-fitiing"
   ]
  },
  {
   "cell_type": "code",
   "execution_count": 101,
   "metadata": {
    "scrolled": true
   },
   "outputs": [
    {
     "data": {
      "image/png": "[encoded data removed]",
      "text/plain": [
       "<Figure size 432x288 with 1 Axes>"
      ]
     },
     "metadata": {
      "needs_background": "light"
     },
     "output_type": "display_data"
    }
   ],
   "source": [
    "fig, ax = plt.subplots()\n",
    "ax.scatter(Y_validation, Y_predict)\n",
    "ax.plot([Y_validation.min(), Y_validation.max()], [Y_validation.min(), Y_validation.max()], 'k--', lw=4)\n",
    "ax.set_xlabel('Measured')\n",
    "ax.set_ylabel('Predicted')\n",
    "plt.show()"
   ]
  },
  {
   "cell_type": "markdown",
   "metadata": {},
   "source": [
    "# Taking coefficients all zero i.e.- [-1,-1,-1,-1,-1,-1] and calculation of Mean Squared Erroe, Mean Absolute Error and Mean Percentage Error"
   ]
  },
  {
   "cell_type": "code",
   "execution_count": 102,
   "metadata": {},
   "outputs": [
    {
     "name": "stdout",
     "output_type": "stream",
     "text": [
      "Mean Squared Error  6.342444800672709\n",
      "Mean Absolute Error  2.0233770619736573\n",
      "Mean Percentage Error  118.55751341403666\n"
     ]
    }
   ],
   "source": [
    "coefficients = np.full(X_train.shape[1],-1)\n",
    "learning_rate = 0.001\n",
    "epochs = 100000\n",
    "newcoeff, cost = gradient_descent(X_train, Y_train, coefficients, learning_rate, epochs)\n",
    "Y_predict = prediction(X_validation, newcoeff)\n",
    "print('Mean Squared Error ', mean_square_error(Y_validation, Y_predict))\n",
    "print('Mean Absolute Error ', mean_absolute_error(Y_validation, Y_predict))\n",
    "print('Mean Percentage Error ', mean_percentage_error(Y_validation, Y_predict))"
   ]
  },
  {
   "cell_type": "markdown",
   "metadata": {},
   "source": [
    "# Plotting of cost(Y-axis) with with number of iterations(X-axis)"
   ]
  },
  {
   "cell_type": "code",
   "execution_count": 103,
   "metadata": {},
   "outputs": [
    {
     "data": {
      "text/plain": [
       "Text(0, 0.5, 'cst')"
      ]
     },
     "execution_count": 103,
     "metadata": {},
     "output_type": "execute_result"
    },
    {
     "data": {
      "image/png": "[encoded data removed]",
      "text/plain": [
       "<Figure size 432x288 with 1 Axes>"
      ]
     },
     "metadata": {
      "needs_background": "light"
     },
     "output_type": "display_data"
    }
   ],
   "source": [
    "n_iter = [x for x in range(1,100001)]\n",
    "plt.plot(n_iter,cost)\n",
    "plt.xlabel('niter')\n",
    "plt.ylabel('cst')"
   ]
  },
  {
   "cell_type": "markdown",
   "metadata": {},
   "source": [
    "# The best line-fitiing"
   ]
  },
  {
   "cell_type": "code",
   "execution_count": 104,
   "metadata": {},
   "outputs": [
    {
     "data": {
      "image/png": "[encoded data removed]",
      "text/plain": [
       "<Figure size 432x288 with 1 Axes>"
      ]
     },
     "metadata": {
      "needs_background": "light"
     },
     "output_type": "display_data"
    }
   ],
   "source": [
    "fig, ax = plt.subplots()\n",
    "ax.scatter(Y_validation, Y_predict)\n",
    "ax.plot([Y_validation.min(), Y_validation.max()], [Y_validation.min(), Y_validation.max()], 'k--', lw=4)\n",
    "ax.set_xlabel('Measured')\n",
    "ax.set_ylabel('Predicted')\n",
    "plt.show()"
   ]
  },
  {
   "cell_type": "markdown",
   "metadata": {},
   "source": [
    "# Taking coefficients all one i.e.- [1,1,1,1,1,1] and calculation of Mean Squared Erroe, Mean Absolute Error and Mean Percentage Error"
   ]
  },
  {
   "cell_type": "code",
   "execution_count": 106,
   "metadata": {},
   "outputs": [
    {
     "name": "stdout",
     "output_type": "stream",
     "text": [
      "Mean Squared Error  6.329505056785964\n",
      "Mean Absolute Error  2.020226092572315\n",
      "Mean Percentage Error  118.83305369564494\n"
     ]
    }
   ],
   "source": [
    "coefficients = np.full(X_train.shape[1],1)\n",
    "learning_rate = 0.001\n",
    "epochs = 100000\n",
    "newcoeff, cost = gradient_descent(X_train, Y_train, coefficients, learning_rate, epochs)\n",
    "Y_predict = prediction(X_validation, newcoeff)\n",
    "print('Mean Squared Error ', mean_square_error(Y_validation, Y_predict))\n",
    "print('Mean Absolute Error ', mean_absolute_error(Y_validation, Y_predict))\n",
    "print('Mean Percentage Error ', mean_percentage_error(Y_validation, Y_predict))"
   ]
  },
  {
   "cell_type": "markdown",
   "metadata": {},
   "source": [
    "# Plotting of cost(Y-axis) with with number of iterations(X-axis)"
   ]
  },
  {
   "cell_type": "code",
   "execution_count": 107,
   "metadata": {},
   "outputs": [
    {
     "data": {
      "text/plain": [
       "Text(0, 0.5, 'cst')"
      ]
     },
     "execution_count": 107,
     "metadata": {},
     "output_type": "execute_result"
    },
    {
     "data": {
      "image/png": "[encoded data removed]",
      "text/plain": [
       "<Figure size 432x288 with 1 Axes>"
      ]
     },
     "metadata": {
      "needs_background": "light"
     },
     "output_type": "display_data"
    }
   ],
   "source": [
    "n_iter = [x for x in range(1,100001)]\n",
    "plt.plot(n_iter,cost)\n",
    "plt.xlabel('niter')\n",
    "plt.ylabel('cst')"
   ]
  },
  {
   "cell_type": "markdown",
   "metadata": {},
   "source": [
    "# The best line-fitiing"
   ]
  },
  {
   "cell_type": "code",
   "execution_count": 108,
   "metadata": {},
   "outputs": [
    {
     "data": {
      "image/png": "[encoded data removed]",
      "text/plain": [
       "<Figure size 432x288 with 1 Axes>"
      ]
     },
     "metadata": {
      "needs_background": "light"
     },
     "output_type": "display_data"
    }
   ],
   "source": [
    "fig, ax = plt.subplots()\n",
    "ax.scatter(Y_validation, Y_predict)\n",
    "ax.plot([Y_validation.min(), Y_validation.max()], [Y_validation.min(), Y_validation.max()], 'k--', lw=4)\n",
    "ax.set_xlabel('Measured')\n",
    "ax.set_ylabel('Predicted')\n",
    "plt.show()"
   ]
  },
  {
   "cell_type": "markdown",
   "metadata": {},
   "source": [
    "# Taking coefficients all zero i.e.- [1.4,1.4,1.4,1.4,1.4,1.4] and calculation of Mean Squared Erroe, Mean Absolute Error and Mean Percentage Error"
   ]
  },
  {
   "cell_type": "code",
   "execution_count": 105,
   "metadata": {},
   "outputs": [
    {
     "name": "stdout",
     "output_type": "stream",
     "text": [
      "Mean Squared Error  6.327751737086518\n",
      "Mean Absolute Error  2.019696484372491\n",
      "Mean Percentage Error  118.8894721764153\n"
     ]
    }
   ],
   "source": [
    "coefficients = np.full(X_train.shape[1],1.4)\n",
    "learning_rate = 0.001\n",
    "epochs = 100000\n",
    "newcoeff, cost = gradient_descent(X_train, Y_train, coefficients, learning_rate, epochs)\n",
    "Y_predict = prediction(X_validation, newcoeff)\n",
    "print('Mean Squared Error ', mean_square_error(Y_validation, Y_predict))\n",
    "print('Mean Absolute Error ', mean_absolute_error(Y_validation, Y_predict))\n",
    "print('Mean Percentage Error ', mean_percentage_error(Y_validation, Y_predict))"
   ]
  },
  {
   "cell_type": "markdown",
   "metadata": {},
   "source": [
    "# Plotting of cost(Y-axis) with with number of iterations(X-axis)"
   ]
  },
  {
   "cell_type": "code",
   "execution_count": 109,
   "metadata": {},
   "outputs": [
    {
     "data": {
      "text/plain": [
       "Text(0, 0.5, 'cst')"
      ]
     },
     "execution_count": 109,
     "metadata": {},
     "output_type": "execute_result"
    },
    {
     "data": {
      "image/png": "[encoded data removed]",
      "text/plain": [
       "<Figure size 432x288 with 1 Axes>"
      ]
     },
     "metadata": {
      "needs_background": "light"
     },
     "output_type": "display_data"
    }
   ],
   "source": [
    "n_iter = [x for x in range(1,100001)]\n",
    "plt.plot(n_iter,cost)\n",
    "plt.xlabel('niter')\n",
    "plt.ylabel('cst')"
   ]
  },
  {
   "cell_type": "markdown",
   "metadata": {},
   "source": [
    "# The best line-fitiing"
   ]
  },
  {
   "cell_type": "code",
   "execution_count": 110,
   "metadata": {},
   "outputs": [
    {
     "data": {
      "image/png": "[encoded data removed]",
      "text/plain": [
       "<Figure size 432x288 with 1 Axes>"
      ]
     },
     "metadata": {
      "needs_background": "light"
     },
     "output_type": "display_data"
    }
   ],
   "source": [
    "fig, ax = plt.subplots()\n",
    "ax.scatter(Y_validation, Y_predict)\n",
    "ax.plot([Y_validation.min(), Y_validation.max()], [Y_validation.min(), Y_validation.max()], 'k--', lw=4)\n",
    "ax.set_xlabel('Measured')\n",
    "ax.set_ylabel('Predicted')\n",
    "plt.show()"
   ]
  },
  {
   "cell_type": "markdown",
   "metadata": {},
   "source": [
    "MSE can be used to penalize large error in some cases. But in some cases MAE is better than MSE. MSE does not tell about average error alone and has other difficult implications. MSE does not use the absolute value liek MAE, which is not accepted in many mathemetics calculation"
   ]
  },
  {
   "cell_type": "code",
   "execution_count": null,
   "metadata": {},
   "outputs": [],
   "source": []
  }
 ],
 "metadata": {
  "kernelspec": {
   "display_name": "Python 3",
   "language": "python",
   "name": "python3"
  },
  "language_info": {
   "codemirror_mode": {
    "name": "ipython",
    "version": 3
   },
   "file_extension": ".py",
   "mimetype": "text/x-python",
   "name": "python",
   "nbconvert_exporter": "python",
   "pygments_lexer": "ipython3",
   "version": "3.7.4"
  }
 },
 "nbformat": 4,
 "nbformat_minor": 4
}
